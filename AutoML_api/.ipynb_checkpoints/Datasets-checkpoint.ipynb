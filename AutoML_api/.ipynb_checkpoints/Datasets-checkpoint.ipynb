{
 "cells": [
  {
   "cell_type": "code",
   "execution_count": 2,
   "id": "95bad4df-c3da-4c0c-80b7-ef72acb54f8b",
   "metadata": {},
   "outputs": [],
   "source": [
    "import pandas as pd\n",
    "import numpy as np"
   ]
  },
  {
   "cell_type": "code",
   "execution_count": 2,
   "id": "dc1bad82-37d2-4e17-b8f3-2a24ae9ab0d0",
   "metadata": {},
   "outputs": [],
   "source": [
    "# Random Classification Datasets"
   ]
  },
  {
   "cell_type": "code",
   "execution_count": 3,
   "id": "57692a93-695d-4caa-adcb-6be3ec0137e7",
   "metadata": {},
   "outputs": [],
   "source": [
    "from sklearn.datasets import fetch_covtype\n",
    "dataset = fetch_covtype()\n",
    "#dataset.to_parquet('datasets/covtype.parquet', index=False, engine='pyarrow')"
   ]
  },
  {
   "cell_type": "code",
   "execution_count": 4,
   "id": "06743c2c-73c5-4501-ac62-4732d8bb7dbf",
   "metadata": {},
   "outputs": [],
   "source": [
    "X = dataset['data']\n",
    "y = dataset['target']"
   ]
  },
  {
   "cell_type": "code",
   "execution_count": 5,
   "id": "c0b57c34-e15b-4d88-bdc8-6b97d859a25a",
   "metadata": {},
   "outputs": [],
   "source": [
    "Xp = pd.DataFrame(X)"
   ]
  },
  {
   "cell_type": "code",
   "execution_count": 6,
   "id": "daea0f70-5367-4891-b89e-0994878fbbf5",
   "metadata": {},
   "outputs": [],
   "source": [
    "ds = pd.DataFrame(np.concatenate((X,y.reshape(-1,1)), axis=1))\n",
    "ds.rename({54:'target'}, axis=1, inplace=True)"
   ]
  },
  {
   "cell_type": "code",
   "execution_count": 8,
   "id": "d100dd56-e9e9-4dd6-bdfb-206947cdc3e7",
   "metadata": {},
   "outputs": [],
   "source": [
    "ds.to_parquet('datasets/forest_cls.parquet', engine='pyarrow', index=False)"
   ]
  },
  {
   "cell_type": "code",
   "execution_count": 9,
   "id": "5c1d966c-6f67-4678-9ec4-aaae4a3d5310",
   "metadata": {},
   "outputs": [],
   "source": [
    "input_file = 'datasets/iris_cls.csv'\n",
    "dataset = pd.read_csv(input_file)\n",
    "dataset.to_parquet('datasets/iris_cls.parquet', engine='pyarrow', index=False)"
   ]
  },
  {
   "cell_type": "code",
   "execution_count": 10,
   "id": "7743152f-c27a-4683-887b-7f989ab6876c",
   "metadata": {},
   "outputs": [],
   "source": [
    "input_file = 'datasets/wine_cls.csv'\n",
    "dataset = pd.read_csv(input_file)\n",
    "dataset.to_parquet('datasets/wine_cls.parquet', engine='pyarrow', index=False)"
   ]
  },
  {
   "cell_type": "code",
   "execution_count": 18,
   "id": "026882a7-2ca9-4b40-b656-a997c5502c46",
   "metadata": {},
   "outputs": [],
   "source": [
    "import kagglehub\n",
    "path = kagglehub.dataset_download(\"prathamtripathi/drug-classification\")\n",
    "import os\n",
    "dataset = pd.read_csv(path+'\\\\'+os.listdir(path)[0])"
   ]
  },
  {
   "cell_type": "code",
   "execution_count": 20,
   "id": "be348fc0-48b5-4cb1-b1ef-dee202129035",
   "metadata": {},
   "outputs": [],
   "source": [
    "dataset.rename({'Drug':'target'}, axis=1, inplace=True)"
   ]
  },
  {
   "cell_type": "code",
   "execution_count": 22,
   "id": "2d8e7aff-0c61-422d-b217-bc948a3fbc22",
   "metadata": {},
   "outputs": [],
   "source": [
    "dataset.to_parquet('datasets/drug_cls.parquet', engine='pyarrow', index=False)"
   ]
  },
  {
   "cell_type": "code",
   "execution_count": 16,
   "id": "72d510d8-8801-4f2a-943c-ec07758afa9b",
   "metadata": {},
   "outputs": [],
   "source": [
    "import kagglehub\n",
    "path = kagglehub.dataset_download(\"uciml/zoo-animal-classification\")\n",
    "import os\n",
    "dataset = pd.read_csv(path+'\\\\'+os.listdir(path)[1])"
   ]
  },
  {
   "cell_type": "code",
   "execution_count": 17,
   "id": "5416bbb0-8a21-4ee9-b02e-65f079fdc687",
   "metadata": {},
   "outputs": [],
   "source": [
    "dataset.rename({'class_type':'target'}, axis=1, inplace=True)\n",
    "dataset.drop('animal_name', axis=1, inplace=True)\n",
    "dataset.to_parquet('data/zoo_cls.parquet', engine='pyarrow', index=False)"
   ]
  },
  {
   "cell_type": "code",
   "execution_count": 15,
   "id": "dde292e2-8c82-481c-95b5-9c10de364f1d",
   "metadata": {},
   "outputs": [
    {
     "name": "stdout",
     "output_type": "stream",
     "text": [
      "C:\\Users\\bmhernandez\\.cache\\kagglehub\\datasets\\uciml\\zoo-animal-classification\\versions\\1\n"
     ]
    }
   ],
   "source": [
    "print(path)"
   ]
  },
  {
   "cell_type": "code",
   "execution_count": null,
   "id": "782f8ab2-f584-41df-a3d4-151cf924c3fb",
   "metadata": {},
   "outputs": [],
   "source": []
  }
 ],
 "metadata": {
  "kernelspec": {
   "display_name": "Python 3 (ipykernel)",
   "language": "python",
   "name": "python3"
  },
  "language_info": {
   "codemirror_mode": {
    "name": "ipython",
    "version": 3
   },
   "file_extension": ".py",
   "mimetype": "text/x-python",
   "name": "python",
   "nbconvert_exporter": "python",
   "pygments_lexer": "ipython3",
   "version": "3.12.4"
  }
 },
 "nbformat": 4,
 "nbformat_minor": 5
}
