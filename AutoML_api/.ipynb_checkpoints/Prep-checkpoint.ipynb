{
 "cells": [
  {
   "cell_type": "code",
   "execution_count": 17,
   "id": "dcf197d6-0457-45ac-8dd5-944d65cbf36c",
   "metadata": {},
   "outputs": [],
   "source": [
    "import pandas as pd"
   ]
  },
  {
   "cell_type": "code",
   "execution_count": 18,
   "id": "e8574007-7cd5-4778-98be-615ba020fc0e",
   "metadata": {},
   "outputs": [
    {
     "data": {
      "text/plain": [
       "True"
      ]
     },
     "execution_count": 18,
     "metadata": {},
     "output_type": "execute_result"
    }
   ],
   "source": [
    "# cargar .env\n",
    "import os\n",
    "from dotenv import load_dotenv\n",
    "load_dotenv()"
   ]
  },
  {
   "cell_type": "code",
   "execution_count": 19,
   "id": "5a77b3a4-a323-4e2f-bf1c-45d3ee0f0a08",
   "metadata": {},
   "outputs": [
    {
     "name": "stdout",
     "output_type": "stream",
     "text": [
      "data/zoo_cls.parquet\n"
     ]
    }
   ],
   "source": [
    "train_file = os.getenv(\"DATASET\")\n",
    "target_column = os.getenv(\"TARGET\")\n",
    "model_name = os.getenv(\"MODEL\")\n",
    "n_trials = os.getenv(\"TRIALS\")\n",
    "depl_type = os.getenv(\"DEPLOYMENT_TYPE\")\n",
    "input_folder = os.getenv(\"INPUT_FOLDER\")\n",
    "output_folder = os.getenv(\"OUTPUT_FOLDER\")\n",
    "port = os.getenv('PORT')\n",
    "print(train_file)"
   ]
  },
  {
   "cell_type": "code",
   "execution_count": 20,
   "id": "cca5d990-4800-4350-8d88-c684e7c82286",
   "metadata": {},
   "outputs": [],
   "source": [
    "import sys\n",
    "import pandas as pd\n",
    "import numpy as np\n",
    "import joblib\n",
    "from sklearn.impute import SimpleImputer\n",
    "from sklearn.pipeline import Pipeline\n",
    "from sklearn.compose import ColumnTransformer\n",
    "from sklearn.preprocessing import StandardScaler, OneHotEncoder\n",
    "from sklearn.decomposition import KernelPCA"
   ]
  },
  {
   "cell_type": "code",
   "execution_count": 51,
   "id": "7d86a05b-8081-4675-a03b-643114cb304e",
   "metadata": {},
   "outputs": [],
   "source": [
    "def preprocess(input_file, target_column, output_file, output_prep, output_pca): \n",
    "    df = pd.read_parquet(input_file, engine='pyarrow')\n",
    "    \n",
    "    # separar caracteristicas\n",
    "    features_name = [x for x in list(df.columns) if x!=target_column]\n",
    "    features = df[features_name]\n",
    "    target = df[[target_column]]\n",
    "\n",
    "    # definición de tipo de features\n",
    "    numeric_features = []\n",
    "    categoric_features = []\n",
    "    for f in features_name:\n",
    "        if (features[f].nunique()<=20):\n",
    "            categoric_features.append(f)\n",
    "        else:\n",
    "            numeric_features.append(f)   \n",
    "    \n",
    "    # Ajuste de features\n",
    "    feat_num = features[numeric_features].select_dtypes('O')\n",
    "    for f in feat_num.columns:\n",
    "        feat_num.loc[(~feat_num[f].str.isnumeric()), f] = np.nan\n",
    "    feat_num = feat_num.astype('float32')\n",
    "    feat_num = pd.concat([features[numeric_features].select_dtypes('number'),feat_num], axis=1)\n",
    "    feat_cat = features[categoric_features]\n",
    "    features = pd.concat([feat_num, feat_cat], axis=1)\n",
    "        \n",
    "    # preprocesamiento\n",
    "    numeric_transformer = Pipeline(steps=[\n",
    "                                        ('imputer', SimpleImputer(strategy='mean')),\n",
    "                                        ('scaler', StandardScaler())\n",
    "    ])\n",
    "    categorical_transformer = Pipeline(steps=[\n",
    "                                        ('imputer', SimpleImputer(strategy='most_frequent')),\n",
    "                                        ('onehot', OneHotEncoder(drop='first', handle_unknown='ignore'))\n",
    "    ])\n",
    "    preprocessor = ColumnTransformer(\n",
    "        transformers=[\n",
    "            ('num', numeric_transformer, numeric_features),\n",
    "            ('cat', categorical_transformer, categoric_features)\n",
    "        ]\n",
    "    )\n",
    "    \n",
    "    df = preprocessor.fit_transform(features)\n",
    "\n",
    "    feature_limits = 15\n",
    "    pca = KernelPCA(n_components=feature_limits, kernel='rbf')\n",
    "    \n",
    "    if df.shape[1]>feature_limits:\n",
    "        df = pca.fit_transform(df)\n",
    "        \n",
    "    # guardar preprocesador\n",
    "    joblib.dump(preprocessor, output_prep)\n",
    "    joblib.dump(pca, output_pca)\n",
    "    \n",
    "    df = pd.concat([pd.DataFrame(df), target], axis=1, ignore_index=True)\n",
    "    df.to_parquet(output_file, index=False, engine='pyarrow')\n",
    "    print('Preprocessing stage is done')\n",
    "    return df"
   ]
  },
  {
   "cell_type": "code",
   "execution_count": 52,
   "id": "3e32ef6f-a403-4a82-9769-d5745b0f90f3",
   "metadata": {},
   "outputs": [],
   "source": [
    "input_file = train_file\n",
    "target_column = target_column\n",
    "output_file = 'data/data_prep.parquet'\n",
    "output_prep = 'models/preprocessor.pkl'\n",
    "output_pca = 'models/pca.pkl'"
   ]
  },
  {
   "cell_type": "code",
   "execution_count": 53,
   "id": "b24e9b6c-03da-4447-adc8-0a098a0cbbe6",
   "metadata": {},
   "outputs": [
    {
     "name": "stdout",
     "output_type": "stream",
     "text": [
      "Preprocessing stage is done\n"
     ]
    }
   ],
   "source": [
    "a = preprocess(input_file, target_column, output_file, output_prep, output_pca)"
   ]
  },
  {
   "cell_type": "code",
   "execution_count": null,
   "id": "1d3f260e-dfed-46b9-9852-6bbabeda41f2",
   "metadata": {},
   "outputs": [],
   "source": []
  }
 ],
 "metadata": {
  "kernelspec": {
   "display_name": "Python 3 (ipykernel)",
   "language": "python",
   "name": "python3"
  },
  "language_info": {
   "codemirror_mode": {
    "name": "ipython",
    "version": 3
   },
   "file_extension": ".py",
   "mimetype": "text/x-python",
   "name": "python",
   "nbconvert_exporter": "python",
   "pygments_lexer": "ipython3",
   "version": "3.12.4"
  }
 },
 "nbformat": 4,
 "nbformat_minor": 5
}
