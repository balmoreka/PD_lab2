{
 "cells": [
  {
   "cell_type": "markdown",
   "id": "3497ac5d-f8d6-418b-a524-5526ec06c6b8",
   "metadata": {},
   "source": [
    "### Construcción del contenedor\n",
    "El directorio de trabajo en ubuntu debe ser la carpeta que se descarga de AutoML_api\n",
    "<br>Luego ejecutar el siguiente comando:<br>\n",
    "**docker build --no-cache -t api-final:latest .**"
   ]
  },
  {
   "cell_type": "markdown",
   "id": "e5a1a8b3-ac9f-48ff-98c3-70bb4659dafb",
   "metadata": {},
   "source": [
    "### Ejecución del contenedor\n",
    "\n",
    "Para ejecutar el contenedor se debe ejecutar el siguiente comando<br>\n",
    "**docker run --env-file .env --rm -v \\<ruta local a carpeta data\\>:/data -d -p 8000:8000 api-final:latest**\n",
    "\n",
    "Carpeta \"data\" es donde se encuentran los posibles archivos a entrenar<br>\n",
    "Se puede modificar el archivo .env para colocar el nombre del archivo a entrenar (en formato parquet) en DATASET<br>\n",
    "Se debe colocar el nombre de la columna a predecir en TARGET<br>\n",
    "Se pueden modificar la cantidad de intentos necesarios para optimización en TRIALS<br>\n",
    "La cantidad maxima de features con la que el modelo se entrenara se define en FEATURE_TRAIN. Si la cantidad de features del datasets es mayor se ejecutara PCA.<br>\n",
    "- Luego el contenedor entrenara el modelo en base a los paramentros definidos en .env\n",
    "- Posteriormente se ejecutara el servicio api para enviar solicitudes.\n",
    "\n",
    "Se deja una muestra de una solicitud realizada"
   ]
  },
  {
   "cell_type": "code",
   "execution_count": 29,
   "id": "03b62a88-0ee4-44f4-a330-748479a1795e",
   "metadata": {},
   "outputs": [
    {
     "name": "stdout",
     "output_type": "stream",
     "text": [
      "{\"status\":\"ok\"}\n"
     ]
    }
   ],
   "source": [
    "import requests\n",
    "url = 'http://localhost:8000/health'\n",
    "\n",
    "response = requests.get(url)\n",
    "print(response.text)"
   ]
  },
  {
   "cell_type": "code",
   "execution_count": 22,
   "id": "140b7bd8-a7f9-4ad1-8d1c-d793dee678b4",
   "metadata": {},
   "outputs": [],
   "source": [
    "input_file = 'data/input/batch1.parquet'\n",
    "import pandas as pd\n",
    "df = pd.read_parquet(input_file).head(10)\n",
    "\n",
    "data_json = df.to_dict(orient='records')"
   ]
  },
  {
   "cell_type": "code",
   "execution_count": 23,
   "id": "bf6740ff-5897-4e9e-ad59-6a6dc3c2e2d2",
   "metadata": {},
   "outputs": [
    {
     "data": {
      "text/plain": [
       "{'hair': 1,\n",
       " 'feathers': 0,\n",
       " 'eggs': 0,\n",
       " 'milk': 1,\n",
       " 'airborne': 0,\n",
       " 'aquatic': 0,\n",
       " 'predator': 1,\n",
       " 'toothed': 1,\n",
       " 'backbone': 1,\n",
       " 'breathes': 1,\n",
       " 'venomous': 0,\n",
       " 'fins': 0,\n",
       " 'legs': 4,\n",
       " 'tail': 0,\n",
       " 'domestic': 0,\n",
       " 'catsize': 1}"
      ]
     },
     "execution_count": 23,
     "metadata": {},
     "output_type": "execute_result"
    }
   ],
   "source": [
    "data_json[0]"
   ]
  },
  {
   "cell_type": "code",
   "execution_count": 28,
   "id": "8306f8f8-7350-47e3-baa0-5e3ad5b1c236",
   "metadata": {},
   "outputs": [
    {
     "name": "stdout",
     "output_type": "stream",
     "text": [
      "{\"predictions\":[{\"Clase 1\":0.7473136522135377,\"Clase 2\":0.07508111953835636,\"Clase 3\":0.022543821310268677,\"Clase 4\":0.03344449410238884,\"Clase 5\":0.022763437935062646,\"Clase 6\":0.05161035343851419,\"Clase 7\":0.04724312146187146},{\"Clase 1\":0.8427635043942127,\"Clase 2\":0.04313339764810354,\"Clase 3\":0.01586680476386359,\"Clase 4\":0.03585486824621887,\"Clase 5\":0.013692788012640955,\"Clase 6\":0.009888432645785586,\"Clase 7\":0.03880020428917488},{\"Clase 1\":0.10883968126517593,\"Clase 2\":0.22161108733750828,\"Clase 3\":0.09093347669702156,\"Clase 4\":0.3455019658833319,\"Clase 5\":0.03474191739632916,\"Clase 6\":0.10372791703480558,\"Clase 7\":0.09464395438582743},{\"Clase 1\":0.7473136522135377,\"Clase 2\":0.07508111953835636,\"Clase 3\":0.022543821310268677,\"Clase 4\":0.03344449410238884,\"Clase 5\":0.022763437935062646,\"Clase 6\":0.05161035343851419,\"Clase 7\":0.04724312146187146},{\"Clase 1\":0.9641515164691652,\"Clase 2\":0.009437680375180375,\"Clase 3\":0.002859848484848485,\"Clase 4\":0.008511302294197031,\"Clase 5\":0.0010869565217391304,\"Clase 6\":0.002255434782608696,\"Clase 7\":0.01169726107226107},{\"Clase 1\":0.8427635043942127,\"Clase 2\":0.04313339764810354,\"Clase 3\":0.01586680476386359,\"Clase 4\":0.03585486824621887,\"Clase 5\":0.013692788012640955,\"Clase 6\":0.009888432645785586,\"Clase 7\":0.03880020428917488},{\"Clase 1\":0.8481919344793679,\"Clase 2\":0.05438222966011867,\"Clase 3\":0.018237608820712202,\"Clase 4\":0.019257161507447548,\"Clase 5\":0.015958998413231822,\"Clase 6\":0.024890183928782665,\"Clase 7\":0.019081883190339075},{\"Clase 1\":0.17341574712528912,\"Clase 2\":0.21972592968292934,\"Clase 3\":0.062387690464214884,\"Clase 4\":0.3100578094341402,\"Clase 5\":0.04533184226614533,\"Clase 6\":0.06259776051542272,\"Clase 7\":0.12648322051185826},{\"Clase 1\":0.10883968126517593,\"Clase 2\":0.22161108733750828,\"Clase 3\":0.09093347669702156,\"Clase 4\":0.3455019658833319,\"Clase 5\":0.03474191739632916,\"Clase 6\":0.10372791703480558,\"Clase 7\":0.09464395438582743},{\"Clase 1\":0.690484784457888,\"Clase 2\":0.0516679425558102,\"Clase 3\":0.04897449725197404,\"Clase 4\":0.03820943088773971,\"Clase 5\":0.03569333771878276,\"Clase 6\":0.04835721489552759,\"Clase 7\":0.08661279223227751}]}\n"
     ]
    }
   ],
   "source": [
    "url = 'http://localhost:8000/predict'\n",
    "response = requests.post(url, json=data_json)\n",
    "print(response.text)"
   ]
  },
  {
   "cell_type": "code",
   "execution_count": null,
   "id": "d0fceac4-a8be-4a7a-9fde-112d41e3d285",
   "metadata": {},
   "outputs": [],
   "source": []
  }
 ],
 "metadata": {
  "kernelspec": {
   "display_name": "Python 3 (ipykernel)",
   "language": "python",
   "name": "python3"
  },
  "language_info": {
   "codemirror_mode": {
    "name": "ipython",
    "version": 3
   },
   "file_extension": ".py",
   "mimetype": "text/x-python",
   "name": "python",
   "nbconvert_exporter": "python",
   "pygments_lexer": "ipython3",
   "version": "3.12.2"
  }
 },
 "nbformat": 4,
 "nbformat_minor": 5
}
