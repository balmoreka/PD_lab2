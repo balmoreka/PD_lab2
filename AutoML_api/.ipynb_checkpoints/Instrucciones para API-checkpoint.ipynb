{
 "cells": [
  {
   "cell_type": "markdown",
   "id": "3497ac5d-f8d6-418b-a524-5526ec06c6b8",
   "metadata": {},
   "source": [
    "### Construcción del contenedor\n",
    "El directorio de trabajo en ubuntu debe ser la carpeta que se descarga de AutoML_api\n",
    "<br>Luego ejecutar el siguiente comando:<br>\n",
    "**docker build --no-cache -t api-final:latest .**"
   ]
  },
  {
   "cell_type": "markdown",
   "id": "e5a1a8b3-ac9f-48ff-98c3-70bb4659dafb",
   "metadata": {},
   "source": [
    "### Ejecución del contenedor\n",
    "\n",
    "Para ejecutar el contenedor se debe ejecutar el siguiente comando<br>\n",
    "**docker run --env-file .env --rm -v \\<ruta local a carpeta data\\>:/data -d -p 8000:8000 api-final:latest**\n",
    "\n",
    "Carpeta \"data\" es donde se encuentran los posibles archivos a entrenar<br>\n",
    "Se puede modificar el archivo .env para colocar el nombre del archivo a entrenar (en formato parquet) en DATASET<br>\n",
    "Se debe colocar el nombre de la columna a predecir en TARGET<br>\n",
    "Se pueden modificar la cantidad de intentos necesarios para optimización en TRIALS<br>\n",
    "La cantidad maxima de features con la que el modelo se entrenara se define en FEATURE_TRAIN. Si la cantidad de features del datasets es mayor se ejecutara PCA.<br>\n",
    "- Luego el contenedor entrenara el modelo en base a los paramentros definidos en .env\n",
    "- Posteriormente se ejecutara el servicio api para enviar solicitudes.\n",
    "\n",
    "Se deja una muestra de una solicitud realizada"
   ]
  },
  {
   "cell_type": "code",
   "execution_count": 1,
   "id": "03b62a88-0ee4-44f4-a330-748479a1795e",
   "metadata": {},
   "outputs": [
    {
     "name": "stdout",
     "output_type": "stream",
     "text": [
      "{\"status\":\"ok\"}\n"
     ]
    }
   ],
   "source": [
    "import requests\n",
    "url = 'http://localhost:8000/health'\n",
    "\n",
    "response = requests.get(url)\n",
    "print(response.text)"
   ]
  },
  {
   "cell_type": "code",
   "execution_count": 3,
   "id": "140b7bd8-a7f9-4ad1-8d1c-d793dee678b4",
   "metadata": {},
   "outputs": [],
   "source": [
    "input_file = '../AutoML_folder/data/input/batch1.parquet'\n",
    "import pandas as pd\n",
    "df = pd.read_parquet(input_file).head(10)\n",
    "\n",
    "data_json = df.to_dict(orient='records')"
   ]
  },
  {
   "cell_type": "code",
   "execution_count": 4,
   "id": "bf6740ff-5897-4e9e-ad59-6a6dc3c2e2d2",
   "metadata": {},
   "outputs": [
    {
     "data": {
      "text/plain": [
       "{'hair': 1,\n",
       " 'feathers': 0,\n",
       " 'eggs': 0,\n",
       " 'milk': 1,\n",
       " 'airborne': 0,\n",
       " 'aquatic': 0,\n",
       " 'predator': 1,\n",
       " 'toothed': 1,\n",
       " 'backbone': 1,\n",
       " 'breathes': 1,\n",
       " 'venomous': 0,\n",
       " 'fins': 0,\n",
       " 'legs': 4,\n",
       " 'tail': 0,\n",
       " 'domestic': 0,\n",
       " 'catsize': 1}"
      ]
     },
     "execution_count": 4,
     "metadata": {},
     "output_type": "execute_result"
    }
   ],
   "source": [
    "data_json[0]"
   ]
  },
  {
   "cell_type": "code",
   "execution_count": 5,
   "id": "8306f8f8-7350-47e3-baa0-5e3ad5b1c236",
   "metadata": {},
   "outputs": [
    {
     "name": "stdout",
     "output_type": "stream",
     "text": [
      "{\"predictions\":[{\"Clase 1\":0.805337710826824,\"Clase 2\":0.030153220708573285,\"Clase 3\":0.015598242647610488,\"Clase 4\":0.04096766911892963,\"Clase 5\":0.00873762220907976,\"Clase 6\":0.06509464848893542,\"Clase 7\":0.03411088600004757},{\"Clase 1\":0.8518691391920582,\"Clase 2\":0.042315706002680795,\"Clase 3\":0.018575366145241922,\"Clase 4\":0.02078448405814135,\"Clase 5\":0.016680394357739894,\"Clase 6\":0.02232361222320936,\"Clase 7\":0.02745129802092862},{\"Clase 1\":0.10711556052173421,\"Clase 2\":0.28814194155256206,\"Clase 3\":0.05525241417610608,\"Clase 4\":0.37171354153722963,\"Clase 5\":0.047228094888614465,\"Clase 6\":0.05826135412478988,\"Clase 7\":0.07228709319896366},{\"Clase 1\":0.805337710826824,\"Clase 2\":0.030153220708573285,\"Clase 3\":0.015598242647610488,\"Clase 4\":0.04096766911892963,\"Clase 5\":0.00873762220907976,\"Clase 6\":0.06509464848893542,\"Clase 7\":0.03411088600004757},{\"Clase 1\":0.948970592397558,\"Clase 2\":0.009810841332580462,\"Clase 3\":0.010589660965600815,\"Clase 4\":0.004671829205990697,\"Clase 5\":0.0024494413149875336,\"Clase 6\":0.00882783735503771,\"Clase 7\":0.014679797428244634},{\"Clase 1\":0.8518691391920582,\"Clase 2\":0.042315706002680795,\"Clase 3\":0.018575366145241922,\"Clase 4\":0.02078448405814135,\"Clase 5\":0.016680394357739894,\"Clase 6\":0.02232361222320936,\"Clase 7\":0.02745129802092862},{\"Clase 1\":0.8737031925136765,\"Clase 2\":0.02117486292175733,\"Clase 3\":0.009529126902226067,\"Clase 4\":0.01685513893405746,\"Clase 5\":0.01830213058538745,\"Clase 6\":0.0401920341277802,\"Clase 7\":0.020243514015115056},{\"Clase 1\":0.128745466563405,\"Clase 2\":0.2791790180304304,\"Clase 3\":0.049514813222339714,\"Clase 4\":0.3272266444036342,\"Clase 5\":0.03915194241752325,\"Clase 6\":0.06380943842708067,\"Clase 7\":0.11237267693558677},{\"Clase 1\":0.10711556052173421,\"Clase 2\":0.28814194155256206,\"Clase 3\":0.05525241417610608,\"Clase 4\":0.37171354153722963,\"Clase 5\":0.047228094888614465,\"Clase 6\":0.05826135412478988,\"Clase 7\":0.07228709319896366},{\"Clase 1\":0.6890493326686495,\"Clase 2\":0.049807559387391315,\"Clase 3\":0.057133192291803823,\"Clase 4\":0.028748287193665345,\"Clase 5\":0.02964146160031411,\"Clase 6\":0.0609816704551259,\"Clase 7\":0.08463849640304977}]}\n"
     ]
    }
   ],
   "source": [
    "url = 'http://localhost:8000/predict'\n",
    "response = requests.post(url, json=data_json)\n",
    "print(response.text)"
   ]
  },
  {
   "cell_type": "code",
   "execution_count": null,
   "id": "d0fceac4-a8be-4a7a-9fde-112d41e3d285",
   "metadata": {},
   "outputs": [],
   "source": []
  }
 ],
 "metadata": {
  "kernelspec": {
   "display_name": "Python 3 (ipykernel)",
   "language": "python",
   "name": "python3"
  },
  "language_info": {
   "codemirror_mode": {
    "name": "ipython",
    "version": 3
   },
   "file_extension": ".py",
   "mimetype": "text/x-python",
   "name": "python",
   "nbconvert_exporter": "python",
   "pygments_lexer": "ipython3",
   "version": "3.12.2"
  }
 },
 "nbformat": 4,
 "nbformat_minor": 5
}
